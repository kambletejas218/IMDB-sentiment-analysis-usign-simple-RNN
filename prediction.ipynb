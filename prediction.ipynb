{
 "cells": [
  {
   "cell_type": "code",
   "execution_count": 1,
   "metadata": {},
   "outputs": [],
   "source": [
    "import numpy as np\n",
    "import tensorflow as tf\n",
    "from tensorflow.keras.datasets import imdb\n",
    "from tensorflow.keras.preprocessing import sequence\n",
    "from tensorflow.keras.models import load_model"
   ]
  },
  {
   "cell_type": "code",
   "execution_count": 2,
   "metadata": {},
   "outputs": [],
   "source": [
    "## Mapping of word index bacl to words (for understanding)\n",
    "word_index = imdb.get_word_index()\n",
    "reverse_word_index = {value : key for key,value in word_index.items()}"
   ]
  },
  {
   "cell_type": "code",
   "execution_count": 3,
   "metadata": {},
   "outputs": [
    {
     "name": "stderr",
     "output_type": "stream",
     "text": [
      "WARNING:absl:Compiled the loaded model, but the compiled metrics have yet to be built. `model.compile_metrics` will be empty until you train or evaluate the model.\n"
     ]
    },
    {
     "data": {
      "text/html": [
       "<pre style=\"white-space:pre;overflow-x:auto;line-height:normal;font-family:Menlo,'DejaVu Sans Mono',consolas,'Courier New',monospace\"><span style=\"font-weight: bold\">Model: \"sequential\"</span>\n",
       "</pre>\n"
      ],
      "text/plain": [
       "\u001b[1mModel: \"sequential\"\u001b[0m\n"
      ]
     },
     "metadata": {},
     "output_type": "display_data"
    },
    {
     "data": {
      "text/html": [
       "<pre style=\"white-space:pre;overflow-x:auto;line-height:normal;font-family:Menlo,'DejaVu Sans Mono',consolas,'Courier New',monospace\">┏━━━━━━━━━━━━━━━━━━━━━━━━━━━━━━━━━┳━━━━━━━━━━━━━━━━━━━━━━━━┳━━━━━━━━━━━━━━━┓\n",
       "┃<span style=\"font-weight: bold\"> Layer (type)                    </span>┃<span style=\"font-weight: bold\"> Output Shape           </span>┃<span style=\"font-weight: bold\">       Param # </span>┃\n",
       "┡━━━━━━━━━━━━━━━━━━━━━━━━━━━━━━━━━╇━━━━━━━━━━━━━━━━━━━━━━━━╇━━━━━━━━━━━━━━━┩\n",
       "│ embedding (<span style=\"color: #0087ff; text-decoration-color: #0087ff\">Embedding</span>)           │ (<span style=\"color: #00af00; text-decoration-color: #00af00\">32</span>, <span style=\"color: #00af00; text-decoration-color: #00af00\">500</span>, <span style=\"color: #00af00; text-decoration-color: #00af00\">128</span>)         │     <span style=\"color: #00af00; text-decoration-color: #00af00\">1,280,000</span> │\n",
       "├─────────────────────────────────┼────────────────────────┼───────────────┤\n",
       "│ simple_rnn (<span style=\"color: #0087ff; text-decoration-color: #0087ff\">SimpleRNN</span>)          │ (<span style=\"color: #00af00; text-decoration-color: #00af00\">32</span>, <span style=\"color: #00af00; text-decoration-color: #00af00\">128</span>)              │        <span style=\"color: #00af00; text-decoration-color: #00af00\">32,896</span> │\n",
       "├─────────────────────────────────┼────────────────────────┼───────────────┤\n",
       "│ dense (<span style=\"color: #0087ff; text-decoration-color: #0087ff\">Dense</span>)                   │ (<span style=\"color: #00af00; text-decoration-color: #00af00\">32</span>, <span style=\"color: #00af00; text-decoration-color: #00af00\">1</span>)                │           <span style=\"color: #00af00; text-decoration-color: #00af00\">129</span> │\n",
       "└─────────────────────────────────┴────────────────────────┴───────────────┘\n",
       "</pre>\n"
      ],
      "text/plain": [
       "┏━━━━━━━━━━━━━━━━━━━━━━━━━━━━━━━━━┳━━━━━━━━━━━━━━━━━━━━━━━━┳━━━━━━━━━━━━━━━┓\n",
       "┃\u001b[1m \u001b[0m\u001b[1mLayer (type)                   \u001b[0m\u001b[1m \u001b[0m┃\u001b[1m \u001b[0m\u001b[1mOutput Shape          \u001b[0m\u001b[1m \u001b[0m┃\u001b[1m \u001b[0m\u001b[1m      Param #\u001b[0m\u001b[1m \u001b[0m┃\n",
       "┡━━━━━━━━━━━━━━━━━━━━━━━━━━━━━━━━━╇━━━━━━━━━━━━━━━━━━━━━━━━╇━━━━━━━━━━━━━━━┩\n",
       "│ embedding (\u001b[38;5;33mEmbedding\u001b[0m)           │ (\u001b[38;5;34m32\u001b[0m, \u001b[38;5;34m500\u001b[0m, \u001b[38;5;34m128\u001b[0m)         │     \u001b[38;5;34m1,280,000\u001b[0m │\n",
       "├─────────────────────────────────┼────────────────────────┼───────────────┤\n",
       "│ simple_rnn (\u001b[38;5;33mSimpleRNN\u001b[0m)          │ (\u001b[38;5;34m32\u001b[0m, \u001b[38;5;34m128\u001b[0m)              │        \u001b[38;5;34m32,896\u001b[0m │\n",
       "├─────────────────────────────────┼────────────────────────┼───────────────┤\n",
       "│ dense (\u001b[38;5;33mDense\u001b[0m)                   │ (\u001b[38;5;34m32\u001b[0m, \u001b[38;5;34m1\u001b[0m)                │           \u001b[38;5;34m129\u001b[0m │\n",
       "└─────────────────────────────────┴────────────────────────┴───────────────┘\n"
      ]
     },
     "metadata": {},
     "output_type": "display_data"
    },
    {
     "data": {
      "text/html": [
       "<pre style=\"white-space:pre;overflow-x:auto;line-height:normal;font-family:Menlo,'DejaVu Sans Mono',consolas,'Courier New',monospace\"><span style=\"font-weight: bold\"> Total params: </span><span style=\"color: #00af00; text-decoration-color: #00af00\">1,313,027</span> (5.01 MB)\n",
       "</pre>\n"
      ],
      "text/plain": [
       "\u001b[1m Total params: \u001b[0m\u001b[38;5;34m1,313,027\u001b[0m (5.01 MB)\n"
      ]
     },
     "metadata": {},
     "output_type": "display_data"
    },
    {
     "data": {
      "text/html": [
       "<pre style=\"white-space:pre;overflow-x:auto;line-height:normal;font-family:Menlo,'DejaVu Sans Mono',consolas,'Courier New',monospace\"><span style=\"font-weight: bold\"> Trainable params: </span><span style=\"color: #00af00; text-decoration-color: #00af00\">1,313,025</span> (5.01 MB)\n",
       "</pre>\n"
      ],
      "text/plain": [
       "\u001b[1m Trainable params: \u001b[0m\u001b[38;5;34m1,313,025\u001b[0m (5.01 MB)\n"
      ]
     },
     "metadata": {},
     "output_type": "display_data"
    },
    {
     "data": {
      "text/html": [
       "<pre style=\"white-space:pre;overflow-x:auto;line-height:normal;font-family:Menlo,'DejaVu Sans Mono',consolas,'Courier New',monospace\"><span style=\"font-weight: bold\"> Non-trainable params: </span><span style=\"color: #00af00; text-decoration-color: #00af00\">0</span> (0.00 B)\n",
       "</pre>\n"
      ],
      "text/plain": [
       "\u001b[1m Non-trainable params: \u001b[0m\u001b[38;5;34m0\u001b[0m (0.00 B)\n"
      ]
     },
     "metadata": {},
     "output_type": "display_data"
    },
    {
     "data": {
      "text/html": [
       "<pre style=\"white-space:pre;overflow-x:auto;line-height:normal;font-family:Menlo,'DejaVu Sans Mono',consolas,'Courier New',monospace\"><span style=\"font-weight: bold\"> Optimizer params: </span><span style=\"color: #00af00; text-decoration-color: #00af00\">2</span> (12.00 B)\n",
       "</pre>\n"
      ],
      "text/plain": [
       "\u001b[1m Optimizer params: \u001b[0m\u001b[38;5;34m2\u001b[0m (12.00 B)\n"
      ]
     },
     "metadata": {},
     "output_type": "display_data"
    }
   ],
   "source": [
    "model = load_model('simple_rnn_imdb.h5')\n",
    "model.summary()"
   ]
  },
  {
   "cell_type": "code",
   "execution_count": 5,
   "metadata": {},
   "outputs": [
    {
     "data": {
      "text/plain": [
       "[array([[-1.16327167e+00,  1.40239465e+00, -8.31695735e-01, ...,\n",
       "         -9.24367726e-01,  1.17824864e+00,  1.09465575e+00],\n",
       "        [-4.63096909e-02,  1.41589686e-01,  9.61260311e-03, ...,\n",
       "         -7.29418620e-02,  8.97733644e-02, -8.31498578e-03],\n",
       "        [-1.79156348e-01,  2.24417433e-01, -7.58160139e-04, ...,\n",
       "         -1.82658538e-01,  9.38977003e-02,  8.00214559e-02],\n",
       "        ...,\n",
       "        [ 4.45279106e-03, -3.29700336e-02, -3.28267738e-02, ...,\n",
       "          5.09613715e-02, -3.15943696e-02, -6.46297410e-02],\n",
       "        [-9.78605077e-03,  1.01201544e-02,  3.11796609e-02, ...,\n",
       "          2.94631347e-03,  1.01152826e-02, -2.35394854e-02],\n",
       "        [ 1.33563817e-01, -1.31587893e-01,  6.22036383e-02, ...,\n",
       "          1.04973353e-01, -1.01624265e-01, -1.02875635e-01]], dtype=float32),\n",
       " array([[ 0.06173336,  0.12254028, -0.02931961, ...,  0.10710464,\n",
       "         -0.06972758,  0.10782526],\n",
       "        [-0.05342057, -0.08992418, -0.0575312 , ..., -0.12947847,\n",
       "          0.00193048, -0.11777031],\n",
       "        [-0.08271256,  0.03337599,  0.09226205, ...,  0.0760951 ,\n",
       "         -0.12267465, -0.04813893],\n",
       "        ...,\n",
       "        [ 0.0735644 ,  0.01461036, -0.07584181, ..., -0.08861405,\n",
       "          0.06138656, -0.09024584],\n",
       "        [-0.00131872,  0.10335267, -0.1342267 , ...,  0.162497  ,\n",
       "         -0.138016  ,  0.00297798],\n",
       "        [-0.00615774, -0.05903203, -0.1387598 , ..., -0.01112169,\n",
       "          0.13882978,  0.1042385 ]], dtype=float32),\n",
       " array([[-0.07911537, -0.00115841, -0.00072821, ...,  0.05366125,\n",
       "          0.10052723, -0.12667102],\n",
       "        [-0.14105113, -0.00572859,  0.13086192, ..., -0.01681802,\n",
       "          0.12944323, -0.07720047],\n",
       "        [ 0.14600977, -0.07221539,  0.03353937, ...,  0.09508489,\n",
       "          0.08232739, -0.03582831],\n",
       "        ...,\n",
       "        [ 0.04684325, -0.09575435, -0.12630951, ..., -0.06699819,\n",
       "         -0.12071808,  0.0451836 ],\n",
       "        [-0.06164452, -0.13170025,  0.13757606, ..., -0.01841494,\n",
       "          0.05147418, -0.22083028],\n",
       "        [ 0.01467519,  0.07353059,  0.06961565, ...,  0.06537294,\n",
       "          0.15207951, -0.09077027]], dtype=float32),\n",
       " array([-0.07047443, -0.01823473,  0.02131128, -0.04524811,  0.05052598,\n",
       "        -0.05056912, -0.01065787,  0.0364197 , -0.02402012, -0.05299914,\n",
       "        -0.02502678, -0.02691951, -0.03695155, -0.07118507,  0.01447264,\n",
       "         0.05516832,  0.00583942, -0.06807067, -0.00740942, -0.05088625,\n",
       "         0.04916324,  0.0692358 ,  0.0324058 , -0.0593463 , -0.03496949,\n",
       "         0.07264082,  0.0406957 ,  0.03358162,  0.0221839 ,  0.01506235,\n",
       "        -0.01152526, -0.06970244,  0.00015873, -0.06261336,  0.01250269,\n",
       "        -0.01896437,  0.04423502, -0.03460725, -0.05117981, -0.05530385,\n",
       "        -0.050301  , -0.00983103,  0.0142483 , -0.02444828, -0.07138458,\n",
       "        -0.03291449, -0.06232335,  0.0255849 , -0.02778176,  0.05300242,\n",
       "        -0.01825604, -0.05686432, -0.04639532, -0.02225997,  0.04886412,\n",
       "        -0.0066624 , -0.03835564,  0.00189445, -0.02181862, -0.05695326,\n",
       "        -0.05687855, -0.02782923, -0.03029202, -0.03613253, -0.07485497,\n",
       "        -0.03012012, -0.02465664, -0.0437283 , -0.06522645,  0.02953757,\n",
       "        -0.08727169,  0.02446249,  0.07155633, -0.02940219,  0.05919591,\n",
       "         0.06617741,  0.01084068, -0.00679517, -0.07126202, -0.02133915,\n",
       "         0.01315474,  0.0313934 , -0.07290832, -0.05017525, -0.04762813,\n",
       "        -0.00988449, -0.0060256 ,  0.05709573, -0.01298904,  0.00744493,\n",
       "         0.01287703,  0.00680927, -0.03570407, -0.00725058,  0.05201976,\n",
       "        -0.06540436, -0.06975135,  0.00733352, -0.04062004,  0.03839531,\n",
       "        -0.03652343, -0.05661149,  0.01111472, -0.00726113,  0.00421499,\n",
       "        -0.02887562,  0.01340801, -0.03140492,  0.00252958,  0.07444375,\n",
       "        -0.02674611,  0.01361668, -0.06143999, -0.06285219, -0.02825927,\n",
       "        -0.03575324, -0.06943484, -0.00380907, -0.02171098, -0.04993745,\n",
       "         0.01630549, -0.02487864, -0.01126468, -0.02530027,  0.0157988 ,\n",
       "         0.01549317,  0.00922857, -0.03427041], dtype=float32),\n",
       " array([[ 0.17099763],\n",
       "        [ 0.07670747],\n",
       "        [-0.12560804],\n",
       "        [-0.06801308],\n",
       "        [-0.08706862],\n",
       "        [-0.5913797 ],\n",
       "        [-0.01416313],\n",
       "        [-0.00455384],\n",
       "        [ 0.47886637],\n",
       "        [ 0.16660385],\n",
       "        [ 0.1508291 ],\n",
       "        [-0.21478017],\n",
       "        [-0.43637964],\n",
       "        [ 0.28892684],\n",
       "        [ 0.07863613],\n",
       "        [-0.18186764],\n",
       "        [ 0.16753379],\n",
       "        [ 0.16506073],\n",
       "        [ 0.19685398],\n",
       "        [-0.03442007],\n",
       "        [-0.40794492],\n",
       "        [-0.07631651],\n",
       "        [-0.00392943],\n",
       "        [ 0.24894725],\n",
       "        [-0.00800738],\n",
       "        [-0.06809635],\n",
       "        [-0.34756082],\n",
       "        [ 0.04546906],\n",
       "        [ 0.09063763],\n",
       "        [-0.28229246],\n",
       "        [ 0.01792997],\n",
       "        [-0.1391276 ],\n",
       "        [ 0.18850267],\n",
       "        [ 0.11130191],\n",
       "        [ 0.01411191],\n",
       "        [ 0.12901457],\n",
       "        [ 0.14304458],\n",
       "        [ 0.11055883],\n",
       "        [ 0.018135  ],\n",
       "        [-0.0610944 ],\n",
       "        [-0.28835407],\n",
       "        [ 0.388296  ],\n",
       "        [-0.21710044],\n",
       "        [-0.59520996],\n",
       "        [ 0.19733644],\n",
       "        [-0.20406175],\n",
       "        [ 0.18827453],\n",
       "        [-0.01695249],\n",
       "        [-0.06388554],\n",
       "        [-0.09213804],\n",
       "        [ 0.18686393],\n",
       "        [-0.05313631],\n",
       "        [-0.03783216],\n",
       "        [-0.06601171],\n",
       "        [-0.3676278 ],\n",
       "        [-0.0251805 ],\n",
       "        [-0.11706793],\n",
       "        [ 0.42274073],\n",
       "        [-0.18561885],\n",
       "        [-0.09301909],\n",
       "        [ 0.7364397 ],\n",
       "        [ 0.17154819],\n",
       "        [-0.18150823],\n",
       "        [ 0.18214853],\n",
       "        [ 0.0897262 ],\n",
       "        [ 0.06877549],\n",
       "        [-0.19100577],\n",
       "        [ 0.1947746 ],\n",
       "        [ 0.05850112],\n",
       "        [-0.11977532],\n",
       "        [ 0.14186552],\n",
       "        [-0.28588668],\n",
       "        [ 0.2875553 ],\n",
       "        [-0.38070482],\n",
       "        [-0.18403934],\n",
       "        [-0.12070363],\n",
       "        [ 0.04174807],\n",
       "        [ 0.03811853],\n",
       "        [ 0.09031443],\n",
       "        [ 0.11867726],\n",
       "        [ 0.16333376],\n",
       "        [-0.2272633 ],\n",
       "        [ 0.02940346],\n",
       "        [-0.26155457],\n",
       "        [ 0.11054298],\n",
       "        [ 0.11272068],\n",
       "        [-0.02882647],\n",
       "        [-0.13974474],\n",
       "        [-0.02875477],\n",
       "        [ 0.08084741],\n",
       "        [-0.31781256],\n",
       "        [ 0.14374098],\n",
       "        [-0.06720605],\n",
       "        [-0.03765282],\n",
       "        [ 0.17354932],\n",
       "        [ 0.14356135],\n",
       "        [-0.01947872],\n",
       "        [ 0.09227601],\n",
       "        [ 0.25664234],\n",
       "        [ 0.10433171],\n",
       "        [ 0.6451854 ],\n",
       "        [-0.17010875],\n",
       "        [ 0.26734146],\n",
       "        [ 0.03433971],\n",
       "        [ 0.12156612],\n",
       "        [-0.17775054],\n",
       "        [-0.6488872 ],\n",
       "        [ 0.14903598],\n",
       "        [ 0.08184517],\n",
       "        [-0.00566606],\n",
       "        [-0.02578441],\n",
       "        [-0.07192853],\n",
       "        [ 0.04962393],\n",
       "        [-0.15831158],\n",
       "        [-0.06328321],\n",
       "        [ 0.20033005],\n",
       "        [-0.00447356],\n",
       "        [-0.19368356],\n",
       "        [ 0.12053303],\n",
       "        [-0.19994242],\n",
       "        [ 0.17013182],\n",
       "        [ 0.074285  ],\n",
       "        [ 0.32784203],\n",
       "        [ 0.09747135],\n",
       "        [-0.27758297],\n",
       "        [ 0.29749274],\n",
       "        [ 0.10395632],\n",
       "        [-0.19117601]], dtype=float32),\n",
       " array([1.0386639], dtype=float32)]"
      ]
     },
     "execution_count": 5,
     "metadata": {},
     "output_type": "execute_result"
    }
   ],
   "source": [
    "model.get_weights()"
   ]
  },
  {
   "cell_type": "code",
   "execution_count": 6,
   "metadata": {},
   "outputs": [],
   "source": [
    "## Helper Function \n",
    "# Function to decode reviews \n",
    "def decode_review(encoded_review):\n",
    "    return ' '.join([reverse_word_index.get(i - 3,'?') for i in encoded_review])\n",
    "\n",
    "\n",
    "## Function to preprocess user input\n",
    "def preprocess_text(text):\n",
    "    words = text.lower().split()\n",
    "    encoded_review =[word_index.get(word,2) + 3 for word in words]\n",
    "    padded_review =sequence.pad_sequences([encoded_review],maxlen=500)\n",
    "    return padded_review\n",
    "\n"
   ]
  },
  {
   "cell_type": "code",
   "execution_count": 7,
   "metadata": {},
   "outputs": [],
   "source": [
    "## Prediction Function\n",
    "def predict_sentiment(review):\n",
    "    preprocessed_input = preprocess_text(review)\n",
    "\n",
    "    prediction = model.predict(preprocessed_input)\n",
    "\n",
    "    sentiment = 'Positive' if prediction[0][0] > 0.5 else 'Negative'\n",
    "    return sentiment,prediction[0][0]"
   ]
  },
  {
   "cell_type": "code",
   "execution_count": 8,
   "metadata": {},
   "outputs": [
    {
     "name": "stdout",
     "output_type": "stream",
     "text": [
      "\u001b[1m1/1\u001b[0m \u001b[32m━━━━━━━━━━━━━━━━━━━━\u001b[0m\u001b[37m\u001b[0m \u001b[1m9s\u001b[0m 9s/step\n",
      "Review: This was amazing and Like acting of all cast crew\n",
      "Sentiment: Positive\n",
      "Score: 0.8302754163742065\n"
     ]
    }
   ],
   "source": [
    "## User Input and prediction\n",
    "# Example  review  for prediction\n",
    "example_review = \"This was amazing and Like acting of all cast crew\"\n",
    "sentiment,score = predict_sentiment(example_review)\n",
    "\n",
    "print(f'Review: {example_review}')\n",
    "print(f'Sentiment: {sentiment}')\n",
    "print(f'Score: {score}')"
   ]
  },
  {
   "cell_type": "code",
   "execution_count": 21,
   "metadata": {},
   "outputs": [
    {
     "name": "stdout",
     "output_type": "stream",
     "text": [
      "\u001b[1m1/1\u001b[0m \u001b[32m━━━━━━━━━━━━━━━━━━━━\u001b[0m\u001b[37m\u001b[0m \u001b[1m0s\u001b[0m 414ms/step\n",
      "Review: wachting this movie is a disaster\n",
      "Sentiment: Positive\n",
      "Score: 0.8742678761482239\n"
     ]
    }
   ],
   "source": [
    "## User Input and prediction\n",
    "# Example  review  for prediction\n",
    "example_review = \"wachting this movie is a disaster\"\n",
    "sentiment,score = predict_sentiment(example_review)\n",
    "\n",
    "print(f'Review: {example_review}')\n",
    "print(f'Sentiment: {sentiment}')\n",
    "print(f'Score: {score}')"
   ]
  }
 ],
 "metadata": {
  "kernelspec": {
   "display_name": "venv1",
   "language": "python",
   "name": "python3"
  },
  "language_info": {
   "codemirror_mode": {
    "name": "ipython",
    "version": 3
   },
   "file_extension": ".py",
   "mimetype": "text/x-python",
   "name": "python",
   "nbconvert_exporter": "python",
   "pygments_lexer": "ipython3",
   "version": "3.11.0"
  }
 },
 "nbformat": 4,
 "nbformat_minor": 2
}
